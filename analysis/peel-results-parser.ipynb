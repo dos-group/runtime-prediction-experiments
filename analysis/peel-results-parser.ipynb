{
 "cells": [
  {
   "cell_type": "markdown",
   "metadata": {},
   "source": [
    "# Peel Results Parser\n",
    "\n",
    "This Jupyter notebook parses the *results* folder of a *peel*-bundle."
   ]
  },
  {
   "cell_type": "code",
   "execution_count": 22,
   "metadata": {
    "collapsed": true
   },
   "outputs": [],
   "source": [
    "import numpy as np\n",
    "import pandas as pd\n",
    "\n",
    "import os\n",
    "import itertools as it\n",
    "import json\n",
    "import re\n",
    "import warnings\n",
    "import glob"
   ]
  },
  {
   "cell_type": "markdown",
   "metadata": {},
   "source": [
    "## Parse Runtimes"
   ]
  },
  {
   "cell_type": "code",
   "execution_count": 23,
   "metadata": {
    "collapsed": true
   },
   "outputs": [],
   "source": [
    "def parse_runtimes(suite):\n",
    "    runtimes = []\n",
    "    \n",
    "    for run_path in glob.iglob(os.path.join(suite, '*.top*.run*')):\n",
    "        scale_out, run = int(run_path[-9:-6]), int(run_path[-2:])\n",
    "        state_file = os.path.join(run_path, 'state.json')\n",
    "        with open(state_file) as f:\n",
    "            j = json.load(f)\n",
    "            if j['runExitCode'] != 0:\n",
    "                warnings.warn('%s did not complete successfully.' % run_path)\n",
    "            else:\n",
    "                runtimes.append( (scale_out, j['runTime']) )\n",
    "    \n",
    "    return pd.DataFrame(runtimes, columns=['Nodes', 'Runtime'])"
   ]
  },
  {
   "cell_type": "code",
   "execution_count": 26,
   "metadata": {
    "collapsed": false
   },
   "outputs": [],
   "source": [
    "# pagerank on spark\n",
    "#runtimes = parse_runtimes('results/pageRank.spark.scaleout/')\n",
    "#runtimes.to_csv('pagerank.spark.csv', index=False)\n",
    "\n",
    "# tpc-h query 10 on flink\n",
    "runtimes = parse_runtimes('results/suite.flink.tpchq10.scaleout/')\n",
    "runtimes.to_csv('tpchq10.flink.csv', index=False)\n",
    "\n",
    "# kmeans on flink\n",
    "#runtimes = parse_runtimes('results/suite.flink.kmeans.scaleout/')\n",
    "#runtimes.to_csv('kmeans.flink.csv', index=False)"
   ]
  },
  {
   "cell_type": "markdown",
   "metadata": {},
   "source": [
    "## Parse Dstat Statistics (TODO)"
   ]
  },
  {
   "cell_type": "code",
   "execution_count": 4,
   "metadata": {
    "collapsed": true
   },
   "outputs": [],
   "source": [
    "def get_suites(results_path):\n",
    "    runre = re.compile(r'\\.run\\d\\d$')\n",
    "\n",
    "    suites_dict = {}\n",
    "    for suite_path in glob.iglob('%s*/' % os.path.join(results_path, '')):        \n",
    "        experiments = map(lambda p: os.path.split(p)[1][:-6], glob.iglob('%s*.run*' % suite_path))\n",
    "        suites_dict[suite] = experiments\n",
    "    \n",
    "    return suites_dict"
   ]
  },
  {
   "cell_type": "code",
   "execution_count": 5,
   "metadata": {
    "collapsed": false
   },
   "outputs": [
    {
     "ename": "NameError",
     "evalue": "global name 'suite' is not defined",
     "output_type": "error",
     "traceback": [
      "\u001b[0;31m---------------------------------------------------------------------------\u001b[0m",
      "\u001b[0;31mNameError\u001b[0m                                 Traceback (most recent call last)",
      "\u001b[0;32m<ipython-input-5-03a81e7becb6>\u001b[0m in \u001b[0;36m<module>\u001b[0;34m()\u001b[0m\n\u001b[1;32m      1\u001b[0m \u001b[0mresults_path\u001b[0m \u001b[0;34m=\u001b[0m \u001b[0;34m'results/'\u001b[0m\u001b[0;34m\u001b[0m\u001b[0m\n\u001b[1;32m      2\u001b[0m \u001b[0mmaster\u001b[0m \u001b[0;34m=\u001b[0m \u001b[0;34m'wally001'\u001b[0m\u001b[0;34m\u001b[0m\u001b[0m\n\u001b[0;32m----> 3\u001b[0;31m \u001b[0msuites\u001b[0m \u001b[0;34m=\u001b[0m \u001b[0mget_suites\u001b[0m\u001b[0;34m(\u001b[0m\u001b[0mresults_path\u001b[0m\u001b[0;34m)\u001b[0m\u001b[0;34m\u001b[0m\u001b[0m\n\u001b[0m\u001b[1;32m      4\u001b[0m \u001b[0;32mprint\u001b[0m \u001b[0msuites\u001b[0m\u001b[0;34m\u001b[0m\u001b[0m\n",
      "\u001b[0;32m<ipython-input-4-61fa8781695e>\u001b[0m in \u001b[0;36mget_suites\u001b[0;34m(results_path)\u001b[0m\n\u001b[1;32m      5\u001b[0m     \u001b[0;32mfor\u001b[0m \u001b[0msuite_path\u001b[0m \u001b[0;32min\u001b[0m \u001b[0mglob\u001b[0m\u001b[0;34m.\u001b[0m\u001b[0miglob\u001b[0m\u001b[0;34m(\u001b[0m\u001b[0;34m'%s*/'\u001b[0m \u001b[0;34m%\u001b[0m \u001b[0mos\u001b[0m\u001b[0;34m.\u001b[0m\u001b[0mpath\u001b[0m\u001b[0;34m.\u001b[0m\u001b[0mjoin\u001b[0m\u001b[0;34m(\u001b[0m\u001b[0mresults_path\u001b[0m\u001b[0;34m,\u001b[0m \u001b[0;34m''\u001b[0m\u001b[0;34m)\u001b[0m\u001b[0;34m)\u001b[0m\u001b[0;34m:\u001b[0m\u001b[0;34m\u001b[0m\u001b[0m\n\u001b[1;32m      6\u001b[0m         \u001b[0mexperiments\u001b[0m \u001b[0;34m=\u001b[0m \u001b[0mmap\u001b[0m\u001b[0;34m(\u001b[0m\u001b[0;32mlambda\u001b[0m \u001b[0mp\u001b[0m\u001b[0;34m:\u001b[0m \u001b[0mos\u001b[0m\u001b[0;34m.\u001b[0m\u001b[0mpath\u001b[0m\u001b[0;34m.\u001b[0m\u001b[0msplit\u001b[0m\u001b[0;34m(\u001b[0m\u001b[0mp\u001b[0m\u001b[0;34m)\u001b[0m\u001b[0;34m[\u001b[0m\u001b[0;36m1\u001b[0m\u001b[0;34m]\u001b[0m\u001b[0;34m[\u001b[0m\u001b[0;34m:\u001b[0m\u001b[0;34m-\u001b[0m\u001b[0;36m6\u001b[0m\u001b[0;34m]\u001b[0m\u001b[0;34m,\u001b[0m \u001b[0mglob\u001b[0m\u001b[0;34m.\u001b[0m\u001b[0miglob\u001b[0m\u001b[0;34m(\u001b[0m\u001b[0;34m'%s*.run*'\u001b[0m \u001b[0;34m%\u001b[0m \u001b[0msuite_path\u001b[0m\u001b[0;34m)\u001b[0m\u001b[0;34m)\u001b[0m\u001b[0;34m\u001b[0m\u001b[0m\n\u001b[0;32m----> 7\u001b[0;31m         \u001b[0msuites_dict\u001b[0m\u001b[0;34m[\u001b[0m\u001b[0msuite\u001b[0m\u001b[0;34m]\u001b[0m \u001b[0;34m=\u001b[0m \u001b[0mexperiments\u001b[0m\u001b[0;34m\u001b[0m\u001b[0m\n\u001b[0m\u001b[1;32m      8\u001b[0m \u001b[0;34m\u001b[0m\u001b[0m\n\u001b[1;32m      9\u001b[0m     \u001b[0;32mreturn\u001b[0m \u001b[0msuites_dict\u001b[0m\u001b[0;34m\u001b[0m\u001b[0m\n",
      "\u001b[0;31mNameError\u001b[0m: global name 'suite' is not defined"
     ]
    }
   ],
   "source": [
    "results_path = 'results/'\n",
    "master = 'wally001'\n",
    "suites = get_suites(results_path)\n",
    "print suites"
   ]
  },
  {
   "cell_type": "code",
   "execution_count": 6,
   "metadata": {
    "collapsed": false
   },
   "outputs": [
    {
     "ename": "SyntaxError",
     "evalue": "invalid syntax (<ipython-input-6-c58bfa7d0d73>, line 23)",
     "output_type": "error",
     "traceback": [
      "\u001b[0;36m  File \u001b[0;32m\"<ipython-input-6-c58bfa7d0d73>\"\u001b[0;36m, line \u001b[0;32m23\u001b[0m\n\u001b[0;31m    print df.index.\u001b[0m\n\u001b[0m                   ^\u001b[0m\n\u001b[0;31mSyntaxError\u001b[0m\u001b[0;31m:\u001b[0m invalid syntax\n"
     ]
    }
   ],
   "source": [
    "def get_dstat_statistics(run_path):\n",
    "    dstat_logs_folder = os.path.join(run_path, 'logs', 'dstat', 'dstat-0.7.2')\n",
    "    dstat_logs = os.listdir(dstat_logs_folder)\n",
    "    dstat_logs = filter(lambda x: not x.endswith(master + '.cit.tu-berlin.de.csv'), dstat_logs)\n",
    "\n",
    "    frames = []\n",
    "    data = []\n",
    "    for dstat_log in dstat_logs:\n",
    "        log_file = os.path.join(dstat_logs_folder, dstat_log)\n",
    "        usecols = ['usr','sys','idl','wai','hiq','siq','recv','send','read','writ']\n",
    "        df = pd.read_csv(log_file, skiprows=6, header=0, usecols=usecols)\n",
    "        frames.append(df)\n",
    "        #X = df.values\n",
    "        #data.append(X)\n",
    "        \n",
    "    #n = np.min([X.shape[0] for X in data])\n",
    "    #data = np.dstack([X[:n,:] for X in data])\n",
    "    #data = np.transpose(data, axes=(2,0,1))\n",
    "    #return data\n",
    "    \n",
    "    keys = map(lambda s: s[-12:-4], dstat_logs)\n",
    "    df = pd.concat(frames, keys=keys)\n",
    "    print df.index.\n",
    "    print df.ix['wally060'].head()\n",
    "    print df.ix['wally060'].values\n",
    "\n",
    "    \n",
    "\n",
    "_ = get_dstat_statistics('./results/tpchq10.cluster/tpchq10.flink.top004.run01/', cols=range(1,7)+range(53,57))"
   ]
  },
  {
   "cell_type": "code",
   "execution_count": 7,
   "metadata": {
    "collapsed": false
   },
   "outputs": [
    {
     "ename": "NameError",
     "evalue": "global name 'OrderedDict' is not defined",
     "output_type": "error",
     "traceback": [
      "\u001b[0;31m---------------------------------------------------------------------------\u001b[0m",
      "\u001b[0;31mNameError\u001b[0m                                 Traceback (most recent call last)",
      "\u001b[0;32m<ipython-input-7-f8525e211bb4>\u001b[0m in \u001b[0;36m<module>\u001b[0;34m()\u001b[0m\n\u001b[1;32m     27\u001b[0m \u001b[0;34m\u001b[0m\u001b[0m\n\u001b[1;32m     28\u001b[0m \u001b[0;31m#parse('tpchq3', 'tpchq3.cluster')\u001b[0m\u001b[0;34m\u001b[0m\u001b[0;34m\u001b[0m\u001b[0m\n\u001b[0;32m---> 29\u001b[0;31m \u001b[0mparse\u001b[0m\u001b[0;34m(\u001b[0m\u001b[0;34m'tpchq10'\u001b[0m\u001b[0;34m,\u001b[0m \u001b[0;34m'tpchq10.cluster'\u001b[0m\u001b[0;34m)\u001b[0m\u001b[0;34m\u001b[0m\u001b[0m\n\u001b[0m\u001b[1;32m     30\u001b[0m \u001b[0;31m#parse('tpchq10', 'tpchq10.cluster')\u001b[0m\u001b[0;34m\u001b[0m\u001b[0;34m\u001b[0m\u001b[0m\n",
      "\u001b[0;32m<ipython-input-7-f8525e211bb4>\u001b[0m in \u001b[0;36mparse\u001b[0;34m(name, suite, num_runs)\u001b[0m\n\u001b[1;32m      1\u001b[0m \u001b[0;32mdef\u001b[0m \u001b[0mparse\u001b[0m\u001b[0;34m(\u001b[0m\u001b[0mname\u001b[0m\u001b[0;34m,\u001b[0m \u001b[0msuite\u001b[0m\u001b[0;34m,\u001b[0m \u001b[0mnum_runs\u001b[0m\u001b[0;34m=\u001b[0m\u001b[0;36m5\u001b[0m\u001b[0;34m)\u001b[0m\u001b[0;34m:\u001b[0m\u001b[0;34m\u001b[0m\u001b[0m\n\u001b[0;32m----> 2\u001b[0;31m     \u001b[0md\u001b[0m \u001b[0;34m=\u001b[0m \u001b[0mOrderedDict\u001b[0m\u001b[0;34m(\u001b[0m\u001b[0;34m)\u001b[0m\u001b[0;34m\u001b[0m\u001b[0m\n\u001b[0m\u001b[1;32m      3\u001b[0m     \u001b[0;32mfor\u001b[0m \u001b[0mexperiment\u001b[0m \u001b[0;32min\u001b[0m \u001b[0msuites\u001b[0m\u001b[0;34m[\u001b[0m\u001b[0msuite\u001b[0m\u001b[0;34m]\u001b[0m\u001b[0;34m:\u001b[0m\u001b[0;34m\u001b[0m\u001b[0m\n\u001b[1;32m      4\u001b[0m         \u001b[0mpath\u001b[0m \u001b[0;34m=\u001b[0m \u001b[0mos\u001b[0m\u001b[0;34m.\u001b[0m\u001b[0mpath\u001b[0m\u001b[0;34m.\u001b[0m\u001b[0mjoin\u001b[0m\u001b[0;34m(\u001b[0m\u001b[0mresults_path\u001b[0m\u001b[0;34m,\u001b[0m \u001b[0msuite\u001b[0m\u001b[0;34m,\u001b[0m \u001b[0mexperiment\u001b[0m\u001b[0;34m)\u001b[0m\u001b[0;34m\u001b[0m\u001b[0m\n\u001b[1;32m      5\u001b[0m \u001b[0;34m\u001b[0m\u001b[0m\n",
      "\u001b[0;31mNameError\u001b[0m: global name 'OrderedDict' is not defined"
     ]
    }
   ],
   "source": [
    "def parse(name, suite, num_runs=5):\n",
    "    d = OrderedDict()\n",
    "    for experiment in suites[suite]:\n",
    "        path = os.path.join(results_path, suite, experiment)\n",
    "        \n",
    "        runtimes = []\n",
    "        for i in range(num_runs):\n",
    "            run_path = '%s.run%02d' % (path, i+1)\n",
    "            state = os.path.join(run_path, 'state.json')\n",
    "            with open(state) as f:\n",
    "                j = json.load(f)\n",
    "                runtime = j['runTime']\n",
    "        \n",
    "            dstats = get_dstat_statistics(run_path)\n",
    "            key = 'top%03d.run%02d' % (dstats.shape[0], i+1)\n",
    "            #scaleout_key = 'top%03d' % (dstats.shape[0],)\n",
    "            #d.setdefault(scaleout_key, OrderedDict())\n",
    "            #run_key = 'run%02d' % (i+1,)\n",
    "            #d[scaleout_key][run_key] = OrderedDict()\n",
    "            #d[scaleout_key][run_key]['dstat'] = dstats\n",
    "            \n",
    "            d[key] = dstats\n",
    "            \n",
    "            #d[scaleout_key][run_key]['runtime'] = runtime\n",
    "\n",
    "    np.savez_compressed(name+'.npz', **d)\n",
    "    \n",
    "#parse('tpchq3', 'tpchq3.cluster')\n",
    "parse('tpchq10', 'tpchq10.cluster')\n",
    "#parse('tpchq10', 'tpchq10.cluster')"
   ]
  }
 ],
 "metadata": {
  "kernelspec": {
   "display_name": "Python 2",
   "language": "python",
   "name": "python2"
  },
  "language_info": {
   "codemirror_mode": {
    "name": "ipython",
    "version": 2
   },
   "file_extension": ".py",
   "mimetype": "text/x-python",
   "name": "python",
   "nbconvert_exporter": "python",
   "pygments_lexer": "ipython2",
   "version": "2.7.11"
  }
 },
 "nbformat": 4,
 "nbformat_minor": 0
}
